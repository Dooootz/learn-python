{
 "cells": [
  {
   "cell_type": "markdown",
   "id": "f1c14ae6",
   "metadata": {},
   "source": [
    "# Learn Python\n",
    "Programming fundamentals"
   ]
  },
  {
   "cell_type": "markdown",
   "id": "deaeef3a",
   "metadata": {},
   "source": [
    "### **Hello World**"
   ]
  },
  {
   "cell_type": "code",
   "execution_count": null,
   "id": "a1043478",
   "metadata": {},
   "outputs": [
    {
     "name": "stdout",
     "output_type": "stream",
     "text": [
      "Hello World\n"
     ]
    }
   ],
   "source": [
    "# Your first program: Hello World\n",
    "'''\n",
    "It is a long standing tradition that everyones first program \n",
    "is to print \"Hello World\" to the terminal\n",
    "'''\n",
    "\n",
    "print(\"Hello World\")"
   ]
  },
  {
   "cell_type": "markdown",
   "id": "c0f6197e",
   "metadata": {},
   "source": [
    "### **Variables**"
   ]
  },
  {
   "cell_type": "code",
   "execution_count": null,
   "id": "e73243e1",
   "metadata": {},
   "outputs": [
    {
     "name": "stdout",
     "output_type": "stream",
     "text": [
      "1\n",
      "+\n",
      "2\n",
      "=\n",
      "3\n"
     ]
    }
   ],
   "source": [
    "\"\"\"\n",
    "You can store \"things\" inside variables\n",
    "The example below stores 2 numbers and assigns them to variables named:\n",
    "first_number = 1 \n",
    "second_number = 2\n",
    "\n",
    "variable_name = x\n",
    "\"\"\"\n",
    "\n",
    "first_number = 1 \n",
    "second_number = 2\n",
    "\n",
    "# This is a basic function that returns adds 2 variables together and returns the output\n",
    "def add_numbers():\n",
    "    return first_number + second_number\n",
    "\n",
    "\n",
    "# This will execute each print statement from top to bottom\n",
    "print(first_number)\n",
    "print(\"+\")\n",
    "print(second_number)\n",
    "print(\"=\")\n",
    "print(add_numbers())"
   ]
  },
  {
   "cell_type": "markdown",
   "id": "d0ab4e03",
   "metadata": {},
   "source": [
    "### **Data Types**"
   ]
  },
  {
   "cell_type": "code",
   "execution_count": null,
   "id": "d9bb7616",
   "metadata": {},
   "outputs": [],
   "source": [
    "number = 1 \n",
    "float = 1.5 \n",
    "string = \"Hello\"\n",
    "boolean = True\n",
    "boolean2 = False"
   ]
  },
  {
   "cell_type": "markdown",
   "id": "de6c466b",
   "metadata": {},
   "source": [
    "### **Data Structures**"
   ]
  },
  {
   "cell_type": "code",
   "execution_count": null,
   "id": "a315873f",
   "metadata": {},
   "outputs": [],
   "source": [
    "# Basic \n",
    "list = [1,2,3]\n",
    "dictionary = {\"key\": \"value\"}\n",
    "\n",
    "# Intermediate\n",
    "two_dimension_list = [[1,2],[3,4],[5,6]]\n",
    "nested_dictionary = {\n",
    "    \"employee_1\": {\n",
    "        \"name\": \"John\",\n",
    "        \"age\": 24,\n",
    "        \"isHuman\": True\n",
    "    },\n",
    "    \"employee_2\": {\n",
    "        \"name\": \"Mervin\",\n",
    "        \"age\": 240,\n",
    "        \"isHuman\": False\n",
    "    }\n",
    "}\n",
    "\n",
    "# Advanced\n",
    "dictionary_with_list_values = {\n",
    "    \"fruits\": [\"apple\", \"banana\", \"cherry\"],\n",
    "    \"vegetables\": [\"carrot\", \"broccoli\", \"spinach\"]\n",
    "}"
   ]
  },
  {
   "cell_type": "markdown",
   "id": "140594d7",
   "metadata": {},
   "source": [
    "### **Conditional Statements**"
   ]
  },
  {
   "cell_type": "code",
   "execution_count": 21,
   "id": "f30c8023",
   "metadata": {},
   "outputs": [
    {
     "name": "stdout",
     "output_type": "stream",
     "text": [
      "You're too young to buy alcohol\n"
     ]
    }
   ],
   "source": [
    "\"\"\"\n",
    "If this = this, then do this \n",
    "else if this = that, do that, \n",
    "else (if none of that works) then do this\n",
    "\"\"\"\n",
    "\n",
    "age = 10\n",
    "\n",
    "if age == False:\n",
    "    print(\"How old are you?\")\n",
    "\n",
    "elif age < 18: \n",
    "    print(\"You're too young to buy alcohol\")\n",
    "\n",
    "elif age > 99: \n",
    "    print(\"You're too old to be drinking\")\n",
    "\n",
    "else: \n",
    "    print(\"Cash or card?\")"
   ]
  },
  {
   "cell_type": "markdown",
   "id": "f8f0bc68",
   "metadata": {},
   "source": [
    "### **Loops / Iterators**"
   ]
  },
  {
   "cell_type": "code",
   "execution_count": null,
   "id": "dab0ce3d",
   "metadata": {},
   "outputs": [],
   "source": []
  }
 ],
 "metadata": {
  "kernelspec": {
   "display_name": "virtual-environment",
   "language": "python",
   "name": "python3"
  },
  "language_info": {
   "codemirror_mode": {
    "name": "ipython",
    "version": 3
   },
   "file_extension": ".py",
   "mimetype": "text/x-python",
   "name": "python",
   "nbconvert_exporter": "python",
   "pygments_lexer": "ipython3",
   "version": "3.11.3"
  }
 },
 "nbformat": 4,
 "nbformat_minor": 5
}
